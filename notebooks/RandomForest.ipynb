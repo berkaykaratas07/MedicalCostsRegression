{
 "cells": [
  {
   "cell_type": "code",
   "id": "initial_id",
   "metadata": {
    "collapsed": true,
    "ExecuteTime": {
     "end_time": "2024-11-10T01:30:22.581143Z",
     "start_time": "2024-11-10T01:30:22.578988Z"
    }
   },
   "source": [
    "import pandas as pd\n",
    "from matplotlib import pyplot as plt\n",
    "pd.set_option('future.no_silent_downcasting', True)\n",
    "from sklearn.model_selection import train_test_split\n",
    "import numpy as np\n",
    "from sklearn.ensemble import RandomForestRegressor\n",
    "from sklearn.preprocessing import StandardScaler, PolynomialFeatures"
   ],
   "outputs": [],
   "execution_count": 21
  },
  {
   "metadata": {
    "ExecuteTime": {
     "end_time": "2024-11-10T01:30:22.590693Z",
     "start_time": "2024-11-10T01:30:22.586733Z"
    }
   },
   "cell_type": "code",
   "source": [
    "# Step 1: Load the dataset\n",
    "expenses_df = pd.read_csv(\"C:\\\\Users\\\\Berkay\\\\PycharmProjects\\\\MedicalCostsRegression\\\\data\\\\expenses.csv\")"
   ],
   "id": "a911ac9529ce656",
   "outputs": [],
   "execution_count": 22
  },
  {
   "metadata": {
    "ExecuteTime": {
     "end_time": "2024-11-10T01:30:22.594926Z",
     "start_time": "2024-11-10T01:30:22.591697Z"
    }
   },
   "cell_type": "code",
   "source": [
    "# Step 2: Display the first few rows of the dataset\n",
    "print(expenses_df.head())"
   ],
   "id": "d0c8ffc154c0045e",
   "outputs": [
    {
     "name": "stdout",
     "output_type": "stream",
     "text": [
      "   age     sex     bmi  children smoker     region      charges\n",
      "0   19  female  27.900         0    yes  southwest  16884.92400\n",
      "1   18    male  33.770         1     no  southeast   1725.55230\n",
      "2   28    male  33.000         3     no  southeast   4449.46200\n",
      "3   33    male  22.705         0     no  northwest  21984.47061\n",
      "4   32    male  28.880         0     no  northwest   3866.85520\n"
     ]
    }
   ],
   "execution_count": 23
  },
  {
   "metadata": {
    "ExecuteTime": {
     "end_time": "2024-11-10T01:30:22.598341Z",
     "start_time": "2024-11-10T01:30:22.595930Z"
    }
   },
   "cell_type": "code",
   "source": [
    "# Step 3: Check the shape of the dataset\n",
    "print(expenses_df.shape)"
   ],
   "id": "3c0fca02c9dd473f",
   "outputs": [
    {
     "name": "stdout",
     "output_type": "stream",
     "text": [
      "(1338, 7)\n"
     ]
    }
   ],
   "execution_count": 24
  },
  {
   "metadata": {
    "ExecuteTime": {
     "end_time": "2024-11-10T01:30:22.604909Z",
     "start_time": "2024-11-10T01:30:22.598341Z"
    }
   },
   "cell_type": "code",
   "source": [
    "# Step 4: View summary statistics of the dataset\n",
    "print(expenses_df.describe())"
   ],
   "id": "6c0daac3352889b7",
   "outputs": [
    {
     "name": "stdout",
     "output_type": "stream",
     "text": [
      "               age          bmi     children       charges\n",
      "count  1338.000000  1338.000000  1338.000000   1338.000000\n",
      "mean     39.207025    30.663397     1.094918  13270.422265\n",
      "std      14.049960     6.098187     1.205493  12110.011237\n",
      "min      18.000000    15.960000     0.000000   1121.873900\n",
      "25%      27.000000    26.296250     0.000000   4740.287150\n",
      "50%      39.000000    30.400000     1.000000   9382.033000\n",
      "75%      51.000000    34.693750     2.000000  16639.912515\n",
      "max      64.000000    53.130000     5.000000  63770.428010\n"
     ]
    }
   ],
   "execution_count": 25
  },
  {
   "metadata": {
    "ExecuteTime": {
     "end_time": "2024-11-10T01:30:22.626847Z",
     "start_time": "2024-11-10T01:30:22.620878Z"
    }
   },
   "cell_type": "code",
   "source": [
    "# Step 5: One-hot encode categorical variables and convert boolean values to integers\n",
    "expenses_df = pd.get_dummies(expenses_df, columns=['sex', 'smoker', 'region'], drop_first=True)\n",
    "expenses_df = expenses_df.replace({True: 1, False: 0})"
   ],
   "id": "cb31a497a9162b28",
   "outputs": [],
   "execution_count": 26
  },
  {
   "metadata": {
    "ExecuteTime": {
     "end_time": "2024-11-10T01:30:22.632175Z",
     "start_time": "2024-11-10T01:30:22.626847Z"
    }
   },
   "cell_type": "code",
   "source": [
    "# Step 6: Display the transformed dataset\n",
    "expenses_df.head()"
   ],
   "id": "412e6f2117fd528b",
   "outputs": [
    {
     "data": {
      "text/plain": "   age     bmi  children      charges sex_male smoker_yes region_northwest  \\\n0   19  27.900         0  16884.92400        0          1                0   \n1   18  33.770         1   1725.55230        1          0                0   \n2   28  33.000         3   4449.46200        1          0                0   \n3   33  22.705         0  21984.47061        1          0                1   \n4   32  28.880         0   3866.85520        1          0                1   \n\n  region_southeast region_southwest  \n0                0                1  \n1                1                0  \n2                1                0  \n3                0                0  \n4                0                0  ",
      "text/html": "<div>\n<style scoped>\n    .dataframe tbody tr th:only-of-type {\n        vertical-align: middle;\n    }\n\n    .dataframe tbody tr th {\n        vertical-align: top;\n    }\n\n    .dataframe thead th {\n        text-align: right;\n    }\n</style>\n<table border=\"1\" class=\"dataframe\">\n  <thead>\n    <tr style=\"text-align: right;\">\n      <th></th>\n      <th>age</th>\n      <th>bmi</th>\n      <th>children</th>\n      <th>charges</th>\n      <th>sex_male</th>\n      <th>smoker_yes</th>\n      <th>region_northwest</th>\n      <th>region_southeast</th>\n      <th>region_southwest</th>\n    </tr>\n  </thead>\n  <tbody>\n    <tr>\n      <th>0</th>\n      <td>19</td>\n      <td>27.900</td>\n      <td>0</td>\n      <td>16884.92400</td>\n      <td>0</td>\n      <td>1</td>\n      <td>0</td>\n      <td>0</td>\n      <td>1</td>\n    </tr>\n    <tr>\n      <th>1</th>\n      <td>18</td>\n      <td>33.770</td>\n      <td>1</td>\n      <td>1725.55230</td>\n      <td>1</td>\n      <td>0</td>\n      <td>0</td>\n      <td>1</td>\n      <td>0</td>\n    </tr>\n    <tr>\n      <th>2</th>\n      <td>28</td>\n      <td>33.000</td>\n      <td>3</td>\n      <td>4449.46200</td>\n      <td>1</td>\n      <td>0</td>\n      <td>0</td>\n      <td>1</td>\n      <td>0</td>\n    </tr>\n    <tr>\n      <th>3</th>\n      <td>33</td>\n      <td>22.705</td>\n      <td>0</td>\n      <td>21984.47061</td>\n      <td>1</td>\n      <td>0</td>\n      <td>1</td>\n      <td>0</td>\n      <td>0</td>\n    </tr>\n    <tr>\n      <th>4</th>\n      <td>32</td>\n      <td>28.880</td>\n      <td>0</td>\n      <td>3866.85520</td>\n      <td>1</td>\n      <td>0</td>\n      <td>1</td>\n      <td>0</td>\n      <td>0</td>\n    </tr>\n  </tbody>\n</table>\n</div>"
     },
     "execution_count": 27,
     "metadata": {},
     "output_type": "execute_result"
    }
   ],
   "execution_count": 27
  },
  {
   "metadata": {
    "ExecuteTime": {
     "end_time": "2024-11-10T01:30:22.634814Z",
     "start_time": "2024-11-10T01:30:22.632175Z"
    }
   },
   "cell_type": "code",
   "source": [
    "# Step 7: Apply a log transformation to 'charges' for normalization\n",
    "expenses_df['charges_log'] = np.log(expenses_df['charges'])"
   ],
   "id": "e8ca652bf87b5223",
   "outputs": [],
   "execution_count": 28
  },
  {
   "metadata": {
    "ExecuteTime": {
     "end_time": "2024-11-10T01:30:22.700796Z",
     "start_time": "2024-11-10T01:30:22.634814Z"
    }
   },
   "cell_type": "code",
   "source": [
    "# Step 8: Plot the distribution of original medical expenses\n",
    "plt.hist(expenses_df['charges'], bins=30)\n",
    "plt.xlabel('Medical Expenses')\n",
    "plt.ylabel('Frequency')\n",
    "plt.title('Distribution of Medical Expenses')\n",
    "plt.show()"
   ],
   "id": "745f7a98f0b5b83d",
   "outputs": [
    {
     "data": {
      "text/plain": "<Figure size 640x480 with 1 Axes>",
      "image/png": "[encoded data removed]"
     },
     "metadata": {},
     "output_type": "display_data"
    }
   ],
   "execution_count": 29
  },
  {
   "metadata": {
    "ExecuteTime": {
     "end_time": "2024-11-10T01:30:22.704170Z",
     "start_time": "2024-11-10T01:30:22.700796Z"
    }
   },
   "cell_type": "code",
   "source": [
    "# Step 9: Define feature set (X) and target variable (y)\n",
    "X = expenses_df.drop(['charges', 'charges_log'], axis=1) \n",
    "y = expenses_df['charges_log'] "
   ],
   "id": "451733048b2d55a8",
   "outputs": [],
   "execution_count": 30
  },
  {
   "metadata": {
    "ExecuteTime": {
     "end_time": "2024-11-10T01:30:22.707843Z",
     "start_time": "2024-11-10T01:30:22.704170Z"
    }
   },
   "cell_type": "code",
   "source": [
    "# Step 10: Split the data into training and test sets\n",
    "X_train, X_test, y_train, y_test = train_test_split(X, y, test_size=0.2, random_state=42)"
   ],
   "id": "422620ce60e6ecdc",
   "outputs": [],
   "execution_count": 31
  },
  {
   "metadata": {
    "ExecuteTime": {
     "end_time": "2024-11-10T01:30:22.712460Z",
     "start_time": "2024-11-10T01:30:22.707843Z"
    }
   },
   "cell_type": "code",
   "source": [
    "# Step 11: Scale the features for better model performance\n",
    "scaler = StandardScaler()\n",
    "X_train = scaler.fit_transform(X_train)\n",
    "X_test = scaler.transform(X_test)"
   ],
   "id": "41c72b3a356fb8e9",
   "outputs": [],
   "execution_count": 32
  },
  {
   "metadata": {
    "ExecuteTime": {
     "end_time": "2024-11-10T01:30:22.715435Z",
     "start_time": "2024-11-10T01:30:22.712460Z"
    }
   },
   "cell_type": "code",
   "execution_count": 33,
   "source": [
    "# Step 12: Generate polynomial features to enhance model complexity\n",
    "poly_model = PolynomialFeatures(degree=2) \n",
    "X_train_poly = poly_model.fit_transform(X_train)\n",
    "X_test_poly = poly_model.transform(X_test)  "
   ],
   "id": "4db74e6dcfd10c94",
   "outputs": []
  },
  {
   "metadata": {
    "ExecuteTime": {
     "end_time": "2024-11-10T01:30:22.717484Z",
     "start_time": "2024-11-10T01:30:22.715435Z"
    }
   },
   "cell_type": "code",
   "source": [
    "# Step 13: Initialize the Random Forest Regressor\n",
    "rf_regressor = RandomForestRegressor(n_estimators=100, random_state=42)"
   ],
   "id": "17c4d6bb3b38854e",
   "outputs": [],
   "execution_count": 34
  },
  {
   "metadata": {
    "ExecuteTime": {
     "end_time": "2024-11-10T01:30:22.888947Z",
     "start_time": "2024-11-10T01:30:22.717484Z"
    }
   },
   "cell_type": "code",
   "source": [
    "# Step 14: Train the model on the training data\n",
    "reg_model = rf_regressor.fit(X_train, y_train)"
   ],
   "id": "5e6bd90a4198e712",
   "outputs": [],
   "execution_count": 35
  },
  {
   "metadata": {
    "ExecuteTime": {
     "end_time": "2024-11-10T01:30:22.896956Z",
     "start_time": "2024-11-10T01:30:22.888947Z"
    }
   },
   "cell_type": "code",
   "source": [
    "# Step 15: Make predictions on the test data\n",
    "y_pred = reg_model.predict(X_test)"
   ],
   "id": "be85a6f08c3cb64d",
   "outputs": [],
   "execution_count": 36
  },
  {
   "metadata": {
    "ExecuteTime": {
     "end_time": "2024-11-10T01:30:22.905016Z",
     "start_time": "2024-11-10T01:30:22.896956Z"
    }
   },
   "cell_type": "code",
   "source": [
    "# Step 16: Evaluate model performance with R-squared score\n",
    "print(\"Random Forest Regression Model Performance (R-squared):\", reg_model.score(X_test, y_test))"
   ],
   "id": "3691feb63108ad00",
   "outputs": [
    {
     "name": "stdout",
     "output_type": "stream",
     "text": [
      "Random Forest Regression Model Performance (R-squared): 0.8466674160767298\n"
     ]
    }
   ],
   "execution_count": 37
  },
  {
   "metadata": {
    "ExecuteTime": {
     "end_time": "2024-11-10T01:30:22.910323Z",
     "start_time": "2024-11-10T01:30:22.905016Z"
    }
   },
   "cell_type": "code",
   "source": [
    "# Step 17: Display feature importances\n",
    "importances = reg_model.feature_importances_\n",
    "feature_names = X.columns"
   ],
   "id": "19b5eced2b172b2f",
   "outputs": [],
   "execution_count": 38
  },
  {
   "metadata": {
    "ExecuteTime": {
     "end_time": "2024-11-10T01:30:22.913828Z",
     "start_time": "2024-11-10T01:30:22.910323Z"
    }
   },
   "cell_type": "code",
   "source": [
    "indices = np.argsort(importances)[::-1]\n",
    "print(\"Feature Importances:\")\n",
    "for f in range(X.shape[1]):\n",
    "    print(\"%d. %s (%f)\" % (f + 1, feature_names[indices[f]], importances[indices[f]]))"
   ],
   "id": "7f6563bb1f9617d5",
   "outputs": [
    {
     "name": "stdout",
     "output_type": "stream",
     "text": [
      "Feature Importances:\n",
      "1. smoker_yes (0.436814)\n",
      "2. age (0.380505)\n",
      "3. bmi (0.105306)\n",
      "4. children (0.041902)\n",
      "5. sex_male (0.012146)\n",
      "6. region_southeast (0.008910)\n",
      "7. region_northwest (0.007591)\n",
      "8. region_southwest (0.006825)\n"
     ]
    }
   ],
   "execution_count": 39
  },
  {
   "cell_type": "code",
   "outputs": [
    {
     "data": {
      "text/plain": "<Figure size 640x480 with 1 Axes>",
      "image/png": "[encoded data removed]"
     },
     "metadata": {},
     "output_type": "display_data"
    }
   ],
   "source": [
    "# Step 18: Plot actual vs. predicted values for visual evaluation\n",
    "plt.scatter(y_test, y_pred)\n",
    "plt.xlabel('Actual Values')\n",
    "plt.ylabel('Predicted Values')\n",
    "plt.title('Actual vs Predicted')\n",
    "plt.show()"
   ],
   "metadata": {
    "collapsed": false,
    "ExecuteTime": {
     "end_time": "2024-11-10T01:30:22.974477Z",
     "start_time": "2024-11-10T01:30:22.914828Z"
    }
   },
   "id": "4be6e1cfa4666d08",
   "execution_count": 40
  }
 ],
 "metadata": {
  "kernelspec": {
   "display_name": "Python 3",
   "language": "python",
   "name": "python3"
  },
  "language_info": {
   "codemirror_mode": {
    "name": "ipython",
    "version": 2
   },
   "file_extension": ".py",
   "mimetype": "text/x-python",
   "name": "python",
   "nbconvert_exporter": "python",
   "pygments_lexer": "ipython2",
   "version": "2.7.6"
  }
 },
 "nbformat": 4,
 "nbformat_minor": 5
}
