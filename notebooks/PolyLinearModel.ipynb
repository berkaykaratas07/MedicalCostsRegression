{
 "cells": [
  {
   "cell_type": "code",
   "id": "initial_id",
   "metadata": {
    "collapsed": true,
    "ExecuteTime": {
     "end_time": "2024-11-10T01:22:42.041050Z",
     "start_time": "2024-11-10T01:22:41.032343Z"
    }
   },
   "source": [
    "import pandas as pd\n",
    "from matplotlib import pyplot as plt\n",
    "from sklearn.linear_model import LinearRegression\n",
    "pd.set_option('future.no_silent_downcasting', True)\n",
    "from sklearn.model_selection import train_test_split\n",
    "import numpy as np\n",
    "from sklearn.preprocessing import StandardScaler, PolynomialFeatures"
   ],
   "outputs": [],
   "execution_count": 1
  },
  {
   "metadata": {
    "ExecuteTime": {
     "end_time": "2024-11-10T01:22:42.046590Z",
     "start_time": "2024-11-10T01:22:42.041050Z"
    }
   },
   "cell_type": "code",
   "source": [
    "# Step 1: Load the data\n",
    "expenses_df = pd.read_csv(\"C:\\\\Users\\\\Berkay\\\\PycharmProjects\\\\MedicalCostsRegression\\\\data\\\\expenses.csv\")"
   ],
   "id": "a911ac9529ce656",
   "outputs": [],
   "execution_count": 2
  },
  {
   "metadata": {
    "ExecuteTime": {
     "end_time": "2024-11-10T01:22:42.051776Z",
     "start_time": "2024-11-10T01:22:42.046590Z"
    }
   },
   "cell_type": "code",
   "source": [
    "# Step 2: Preview the first few rows of the data\n",
    "print(expenses_df.head())"
   ],
   "id": "d0c8ffc154c0045e",
   "outputs": [
    {
     "name": "stdout",
     "output_type": "stream",
     "text": [
      "   age     sex     bmi  children smoker     region      charges\n",
      "0   19  female  27.900         0    yes  southwest  16884.92400\n",
      "1   18    male  33.770         1     no  southeast   1725.55230\n",
      "2   28    male  33.000         3     no  southeast   4449.46200\n",
      "3   33    male  22.705         0     no  northwest  21984.47061\n",
      "4   32    male  28.880         0     no  northwest   3866.85520\n"
     ]
    }
   ],
   "execution_count": 3
  },
  {
   "metadata": {
    "ExecuteTime": {
     "end_time": "2024-11-10T01:22:42.054184Z",
     "start_time": "2024-11-10T01:22:42.051776Z"
    }
   },
   "cell_type": "code",
   "source": [
    "# Step 3: Check the shape of the dataset\n",
    "print(expenses_df.shape)"
   ],
   "id": "3c0fca02c9dd473f",
   "outputs": [
    {
     "name": "stdout",
     "output_type": "stream",
     "text": [
      "(1338, 7)\n"
     ]
    }
   ],
   "execution_count": 4
  },
  {
   "metadata": {
    "ExecuteTime": {
     "end_time": "2024-11-10T01:22:42.061078Z",
     "start_time": "2024-11-10T01:22:42.055185Z"
    }
   },
   "cell_type": "code",
   "source": [
    "# Step 4: Get basic statistical details of the dataset\n",
    "print(expenses_df.describe())"
   ],
   "id": "6c0daac3352889b7",
   "outputs": [
    {
     "name": "stdout",
     "output_type": "stream",
     "text": [
      "               age          bmi     children       charges\n",
      "count  1338.000000  1338.000000  1338.000000   1338.000000\n",
      "mean     39.207025    30.663397     1.094918  13270.422265\n",
      "std      14.049960     6.098187     1.205493  12110.011237\n",
      "min      18.000000    15.960000     0.000000   1121.873900\n",
      "25%      27.000000    26.296250     0.000000   4740.287150\n",
      "50%      39.000000    30.400000     1.000000   9382.033000\n",
      "75%      51.000000    34.693750     2.000000  16639.912515\n",
      "max      64.000000    53.130000     5.000000  63770.428010\n"
     ]
    }
   ],
   "execution_count": 5
  },
  {
   "metadata": {
    "ExecuteTime": {
     "end_time": "2024-11-10T01:22:42.065962Z",
     "start_time": "2024-11-10T01:22:42.061078Z"
    }
   },
   "cell_type": "code",
   "source": [
    "# Step 5: One-hot encode categorical variables and replace boolean values with 1 and 0\n",
    "expenses_df = pd.get_dummies(expenses_df, columns=['sex', 'smoker', 'region'], drop_first=True)\n",
    "expenses_df = expenses_df.replace({True: 1, False: 0})"
   ],
   "id": "cb31a497a9162b28",
   "outputs": [],
   "execution_count": 6
  },
  {
   "metadata": {
    "ExecuteTime": {
     "end_time": "2024-11-10T01:22:42.073027Z",
     "start_time": "2024-11-10T01:22:42.065962Z"
    }
   },
   "cell_type": "code",
   "source": [
    "# Step 6: Preview the transformed dataset\n",
    "expenses_df.head()"
   ],
   "id": "412e6f2117fd528b",
   "outputs": [
    {
     "data": {
      "text/plain": "   age     bmi  children      charges sex_male smoker_yes region_northwest  \\\n0   19  27.900         0  16884.92400        0          1                0   \n1   18  33.770         1   1725.55230        1          0                0   \n2   28  33.000         3   4449.46200        1          0                0   \n3   33  22.705         0  21984.47061        1          0                1   \n4   32  28.880         0   3866.85520        1          0                1   \n\n  region_southeast region_southwest  \n0                0                1  \n1                1                0  \n2                1                0  \n3                0                0  \n4                0                0  ",
      "text/html": "<div>\n<style scoped>\n    .dataframe tbody tr th:only-of-type {\n        vertical-align: middle;\n    }\n\n    .dataframe tbody tr th {\n        vertical-align: top;\n    }\n\n    .dataframe thead th {\n        text-align: right;\n    }\n</style>\n<table border=\"1\" class=\"dataframe\">\n  <thead>\n    <tr style=\"text-align: right;\">\n      <th></th>\n      <th>age</th>\n      <th>bmi</th>\n      <th>children</th>\n      <th>charges</th>\n      <th>sex_male</th>\n      <th>smoker_yes</th>\n      <th>region_northwest</th>\n      <th>region_southeast</th>\n      <th>region_southwest</th>\n    </tr>\n  </thead>\n  <tbody>\n    <tr>\n      <th>0</th>\n      <td>19</td>\n      <td>27.900</td>\n      <td>0</td>\n      <td>16884.92400</td>\n      <td>0</td>\n      <td>1</td>\n      <td>0</td>\n      <td>0</td>\n      <td>1</td>\n    </tr>\n    <tr>\n      <th>1</th>\n      <td>18</td>\n      <td>33.770</td>\n      <td>1</td>\n      <td>1725.55230</td>\n      <td>1</td>\n      <td>0</td>\n      <td>0</td>\n      <td>1</td>\n      <td>0</td>\n    </tr>\n    <tr>\n      <th>2</th>\n      <td>28</td>\n      <td>33.000</td>\n      <td>3</td>\n      <td>4449.46200</td>\n      <td>1</td>\n      <td>0</td>\n      <td>0</td>\n      <td>1</td>\n      <td>0</td>\n    </tr>\n    <tr>\n      <th>3</th>\n      <td>33</td>\n      <td>22.705</td>\n      <td>0</td>\n      <td>21984.47061</td>\n      <td>1</td>\n      <td>0</td>\n      <td>1</td>\n      <td>0</td>\n      <td>0</td>\n    </tr>\n    <tr>\n      <th>4</th>\n      <td>32</td>\n      <td>28.880</td>\n      <td>0</td>\n      <td>3866.85520</td>\n      <td>1</td>\n      <td>0</td>\n      <td>1</td>\n      <td>0</td>\n      <td>0</td>\n    </tr>\n  </tbody>\n</table>\n</div>"
     },
     "execution_count": 7,
     "metadata": {},
     "output_type": "execute_result"
    }
   ],
   "execution_count": 7
  },
  {
   "metadata": {
    "ExecuteTime": {
     "end_time": "2024-11-10T01:22:42.076185Z",
     "start_time": "2024-11-10T01:22:42.073027Z"
    }
   },
   "cell_type": "code",
   "source": [
    "# Step 7: Apply log transformation to the 'charges' column for normalization\n",
    "expenses_df['charges_log'] = np.log(expenses_df['charges'])"
   ],
   "id": "e8ca652bf87b5223",
   "outputs": [],
   "execution_count": 8
  },
  {
   "metadata": {
    "ExecuteTime": {
     "end_time": "2024-11-10T01:22:42.154517Z",
     "start_time": "2024-11-10T01:22:42.076185Z"
    }
   },
   "cell_type": "code",
   "source": [
    "# Step 8: Plot the distribution of log-transformed medical expenses\n",
    "plt.hist(expenses_df['charges_log'], bins=30)\n",
    "plt.xlabel('Medical Expenses')\n",
    "plt.ylabel('Frequency')\n",
    "plt.title('Distribution of Medical Expenses')\n",
    "plt.show()"
   ],
   "id": "745f7a98f0b5b83d",
   "outputs": [
    {
     "data": {
      "text/plain": "<Figure size 640x480 with 1 Axes>",
      "image/png": "[encoded data removed]"
     },
     "metadata": {},
     "output_type": "display_data"
    }
   ],
   "execution_count": 9
  },
  {
   "metadata": {
    "ExecuteTime": {
     "end_time": "2024-11-10T01:22:42.157750Z",
     "start_time": "2024-11-10T01:22:42.154517Z"
    }
   },
   "cell_type": "code",
   "source": [
    "# Step 9: Define the feature set (X) and target variable (y)\n",
    "X = expenses_df.drop(['charges', 'charges_log'], axis=1) \n",
    "y = expenses_df['charges_log'] "
   ],
   "id": "451733048b2d55a8",
   "outputs": [],
   "execution_count": 10
  },
  {
   "metadata": {
    "ExecuteTime": {
     "end_time": "2024-11-10T01:22:42.161237Z",
     "start_time": "2024-11-10T01:22:42.157750Z"
    }
   },
   "cell_type": "code",
   "source": [
    "# Step 10: Split the data into training and testing sets\n",
    "X_train, X_test, y_train, y_test = train_test_split(X, y, test_size=0.2, random_state=42)"
   ],
   "id": "422620ce60e6ecdc",
   "outputs": [],
   "execution_count": 11
  },
  {
   "metadata": {
    "ExecuteTime": {
     "end_time": "2024-11-10T01:22:42.166734Z",
     "start_time": "2024-11-10T01:22:42.161237Z"
    }
   },
   "cell_type": "code",
   "source": [
    "# Step 11: Create polynomial features for better model complexity\n",
    "poly_model = PolynomialFeatures(degree=2)  \n",
    "X_train_poly = poly_model.fit_transform(X_train)\n",
    "X_test_poly = poly_model.transform(X_test)  "
   ],
   "id": "28581d3fa5549394",
   "outputs": [],
   "execution_count": 12
  },
  {
   "metadata": {
    "ExecuteTime": {
     "end_time": "2024-11-10T01:22:42.170585Z",
     "start_time": "2024-11-10T01:22:42.166734Z"
    }
   },
   "cell_type": "code",
   "source": [
    "# Step 12: Scale the features using StandardScaler\n",
    "scaler = StandardScaler()\n",
    "X_train_scaled = scaler.fit_transform(X_train_poly)\n",
    "X_test_scaled = scaler.transform(X_test_poly)"
   ],
   "id": "41c72b3a356fb8e9",
   "outputs": [],
   "execution_count": 13
  },
  {
   "metadata": {
    "ExecuteTime": {
     "end_time": "2024-11-10T01:22:42.248285Z",
     "start_time": "2024-11-10T01:22:42.171620Z"
    }
   },
   "cell_type": "code",
   "source": [
    "# Step 13: Initialize and train a linear regression model\n",
    "regressor = LinearRegression()\n",
    "reg_model = regressor.fit(X_train_scaled, y_train)"
   ],
   "id": "17c4d6bb3b38854e",
   "outputs": [],
   "execution_count": 14
  },
  {
   "metadata": {
    "ExecuteTime": {
     "end_time": "2024-11-10T01:22:42.251218Z",
     "start_time": "2024-11-10T01:22:42.248285Z"
    }
   },
   "cell_type": "code",
   "source": [
    "# Step 14: Make predictions on the test set\n",
    "y_pred = reg_model.predict(X_test_poly)"
   ],
   "id": "5e6bd90a4198e712",
   "outputs": [],
   "execution_count": 15
  },
  {
   "metadata": {
    "ExecuteTime": {
     "end_time": "2024-11-10T01:22:42.254539Z",
     "start_time": "2024-11-10T01:22:42.251218Z"
    }
   },
   "cell_type": "code",
   "source": [
    "# Step 15: Evaluate the model's performance using R-squared\n",
    "print(\"Model Performance (R-squared):\", reg_model.score(X_test_scaled, y_test))"
   ],
   "id": "be85a6f08c3cb64d",
   "outputs": [
    {
     "name": "stdout",
     "output_type": "stream",
     "text": [
      "Model Performance (R-squared): 0.864493893328991\n"
     ]
    }
   ],
   "execution_count": 16
  },
  {
   "metadata": {
    "ExecuteTime": {
     "end_time": "2024-11-10T01:22:42.257295Z",
     "start_time": "2024-11-10T01:22:42.254539Z"
    }
   },
   "cell_type": "code",
   "source": [
    "# Step 16: Print model coefficients and intercept\n",
    "print(\"Model Coefficients:\", reg_model.coef_)\n",
    "print(\"Model Intercept:\", reg_model.intercept_)"
   ],
   "id": "3691feb63108ad00",
   "outputs": [
    {
     "name": "stdout",
     "output_type": "stream",
     "text": [
      "Model Coefficients: [-3.66683851e-15  7.79013784e-01  2.81995077e-01  4.33278411e-01\n",
      " -1.13767526e-01  2.56985864e-01  1.25648200e-02 -2.76621595e-02\n",
      " -5.41584811e-02 -2.07543199e-01 -6.22301373e-02 -2.26520311e-01\n",
      "  1.04775808e-01 -5.39908579e-01  5.60845577e-02  1.44255247e-01\n",
      "  1.71014198e-01 -2.14350238e-01  3.61742413e-04  5.95772376e-02\n",
      "  6.37693153e-01 -1.28208695e-01 -1.59834533e-01 -1.24296468e-01\n",
      " -7.26451308e-02  4.71235468e-03 -8.91308265e-02 -2.22959092e-03\n",
      " -1.46226522e-02 -3.03612282e-02 -1.13767526e-01  3.23529040e-02\n",
      "  2.94577268e-02  2.26695603e-02  4.41540613e-03  2.56985864e-01\n",
      "  7.83579893e-03  1.73707096e-02  4.48352499e-02  1.25648200e-02\n",
      "  0.00000000e+00  0.00000000e+00 -2.76621595e-02  0.00000000e+00\n",
      " -5.41584811e-02]\n",
      "Model Intercept: 9.113322337921884\n"
     ]
    }
   ],
   "execution_count": 17
  },
  {
   "metadata": {
    "ExecuteTime": {
     "end_time": "2024-11-10T01:22:42.316334Z",
     "start_time": "2024-11-10T01:22:42.257295Z"
    }
   },
   "cell_type": "code",
   "source": [
    "# Step 17: Plot actual vs. predicted values to visualize model performance\n",
    "plt.scatter(y_test, y_pred)\n",
    "plt.xlabel('Actual Values')\n",
    "plt.ylabel('Predicted Values')\n",
    "plt.title('Actual vs Predicted')\n",
    "plt.show()"
   ],
   "id": "19b5eced2b172b2f",
   "outputs": [
    {
     "data": {
      "text/plain": "<Figure size 640x480 with 1 Axes>",
      "image/png": "[encoded data removed]"
     },
     "metadata": {},
     "output_type": "display_data"
    }
   ],
   "execution_count": 18
  }
 ],
 "metadata": {
  "kernelspec": {
   "display_name": "Python 3",
   "language": "python",
   "name": "python3"
  },
  "language_info": {
   "codemirror_mode": {
    "name": "ipython",
    "version": 2
   },
   "file_extension": ".py",
   "mimetype": "text/x-python",
   "name": "python",
   "nbconvert_exporter": "python",
   "pygments_lexer": "ipython2",
   "version": "2.7.6"
  }
 },
 "nbformat": 4,
 "nbformat_minor": 5
}
